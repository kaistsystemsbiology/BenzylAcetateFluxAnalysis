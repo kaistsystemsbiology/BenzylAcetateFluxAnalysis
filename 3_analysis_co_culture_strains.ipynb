{
 "cells": [
  {
   "cell_type": "code",
   "execution_count": 1,
   "id": "f2c330e4-a209-44b0-a417-cb20bda3f6b6",
   "metadata": {},
   "outputs": [],
   "source": [
    "import os\n",
    "\n",
    "import numpy as np\n",
    "import pandas as pd\n",
    "import matplotlib.pyplot as plt\n",
    "\n",
    "from cobra.io import read_sbml_model\n",
    "from cobra import Model"
   ]
  },
  {
   "cell_type": "code",
   "execution_count": 2,
   "id": "ab5e9671-7468-47fc-b5b8-19d3ce90d306",
   "metadata": {},
   "outputs": [],
   "source": [
    "def combine_models(model_1, model_2):\n",
    "    for met in model_1.metabolites:\n",
    "        met.id += '__Strain1'\n",
    "\n",
    "    for met in model_2.metabolites:\n",
    "        met.id += '__Strain2'\n",
    "\n",
    "    for rxn in model_1.reactions:\n",
    "        rxn.id += '__Strain1'\n",
    "    for rxn in model_2.reactions:\n",
    "        rxn.id += '__Strain2'\n",
    "\n",
    "    model_1_rxns = [rxn.copy() for rxn in model_1.reactions]\n",
    "    model_2_rxns = [rxn.copy() for rxn in model_2.reactions]\n",
    "\n",
    "    new_model = Model(id_or_model='benzoic acid dependent co-culture')\n",
    "\n",
    "    new_model.add_reactions(model_1_rxns)\n",
    "    new_model.add_reactions(model_2_rxns)\n",
    "    \n",
    "    return new_model"
   ]
  },
  {
   "cell_type": "code",
   "execution_count": 3,
   "id": "0df1891a-a016-46d1-ad98-eec41fd171b7",
   "metadata": {},
   "outputs": [],
   "source": [
    "def calculate_agg_flux(model, rxn_inter, rxn_prod, num_step=2000):\n",
    "    ns = np.linspace(0, 10, num_step+1)[1:]\n",
    "\n",
    "    f_aggs = []\n",
    "\n",
    "    for n in ns:\n",
    "        with model as m:\n",
    "            m.reactions.ATPM__Strain1.lower_bound = 0\n",
    "            m.reactions.ATPM__Strain2.lower_bound = 0\n",
    "            const_inter = m.problem.Constraint(\n",
    "                m.reactions.get_by_id(rxn_inter+'__Strain1').flux_expression\n",
    "                + n * m.reactions.get_by_id(rxn_inter+'__Strain2').flux_expression,\n",
    "                lb = 0\n",
    "            )\n",
    "            m.add_cons_vars(const_inter)\n",
    "            m.objective = rxn_prod + '__Strain2'\n",
    "            f = m.slim_optimize()\n",
    "            f_aggs.append(n/(n+1)*f)\n",
    "            \n",
    "    return ns, np.array(f_aggs)"
   ]
  },
  {
   "cell_type": "code",
   "execution_count": 5,
   "id": "351fb62f-b7fe-46ad-851e-e87f9717185f",
   "metadata": {},
   "outputs": [],
   "source": [
    "output_dir = './analysis_output'\n",
    "\n",
    "if output_dir[-1] == '/':\n",
    "    output_dir = output_dir[:-1]\n",
    "\n",
    "if not os.path.exists(output_dir):\n",
    "    os.makedirs(output_dir)"
   ]
  },
  {
   "cell_type": "markdown",
   "id": "8378f49c-8987-421d-a7cc-b65f7f9c381d",
   "metadata": {},
   "source": [
    "### Co-culture (benzoic acid dependent pathway)"
   ]
  },
  {
   "cell_type": "code",
   "execution_count": 6,
   "id": "c003a32f-4af2-4c00-827e-82a44f92ccfa",
   "metadata": {},
   "outputs": [],
   "source": [
    "fig_dir = f'{output_dir}/bz_dp_combined.svg'\n",
    "txt_dir = f'{output_dir}/bz_dp_combined.txt'\n",
    "\n",
    "model_dir_1 = './model_files/iML1515_bz_dp_co_1.xml'\n",
    "model_dir_2 = './model_files/iML1515_bz_dp_co_2.xml'\n",
    "\n",
    "rxn_inter = 'EX_bz_e'\n",
    "rxn_prod = 'EX_bzac_e'"
   ]
  },
  {
   "cell_type": "code",
   "execution_count": 7,
   "id": "da2b4100-c479-410c-9de2-ee6da9fb3c97",
   "metadata": {},
   "outputs": [
    {
     "name": "stdout",
     "output_type": "stream",
     "text": [
      "Academic license - for non-commercial use only - expires 2024-06-11\n",
      "Using license file /data/user_home/gbkim/gurobi.lic\n"
     ]
    }
   ],
   "source": [
    "model_1 = read_sbml_model(model_dir_1)\n",
    "model_2 = read_sbml_model(model_dir_2)\n",
    "model_bz_dp = combine_models(model_1, model_2)"
   ]
  },
  {
   "cell_type": "code",
   "execution_count": 8,
   "id": "c50df669-ca94-4bc8-8a36-2c2adf4db368",
   "metadata": {},
   "outputs": [],
   "source": [
    "ns, f_aggs_bz_dp = calculate_agg_flux(model_bz_dp, rxn_inter, rxn_prod)"
   ]
  },
  {
   "cell_type": "code",
   "execution_count": 9,
   "id": "d019ad9d-a238-48ca-a59f-2c30ea4ef8d8",
   "metadata": {},
   "outputs": [
    {
     "data": {
      "text/html": [
       "<div>\n",
       "<style scoped>\n",
       "    .dataframe tbody tr th:only-of-type {\n",
       "        vertical-align: middle;\n",
       "    }\n",
       "\n",
       "    .dataframe tbody tr th {\n",
       "        vertical-align: top;\n",
       "    }\n",
       "\n",
       "    .dataframe thead th {\n",
       "        text-align: right;\n",
       "    }\n",
       "</style>\n",
       "<table border=\"1\" class=\"dataframe\">\n",
       "  <thead>\n",
       "    <tr style=\"text-align: right;\">\n",
       "      <th></th>\n",
       "      <th>Biomass ratio (Strain2/Strain1)</th>\n",
       "      <th>Benzyl acetate production flux [mmol/gDCW/h]</th>\n",
       "    </tr>\n",
       "  </thead>\n",
       "  <tbody>\n",
       "    <tr>\n",
       "      <th>0</th>\n",
       "      <td>0.005</td>\n",
       "      <td>0.088084</td>\n",
       "    </tr>\n",
       "    <tr>\n",
       "      <th>1</th>\n",
       "      <td>0.010</td>\n",
       "      <td>0.175296</td>\n",
       "    </tr>\n",
       "    <tr>\n",
       "      <th>2</th>\n",
       "      <td>0.015</td>\n",
       "      <td>0.261649</td>\n",
       "    </tr>\n",
       "    <tr>\n",
       "      <th>3</th>\n",
       "      <td>0.020</td>\n",
       "      <td>0.347155</td>\n",
       "    </tr>\n",
       "    <tr>\n",
       "      <th>4</th>\n",
       "      <td>0.025</td>\n",
       "      <td>0.431827</td>\n",
       "    </tr>\n",
       "    <tr>\n",
       "      <th>...</th>\n",
       "      <td>...</td>\n",
       "      <td>...</td>\n",
       "    </tr>\n",
       "    <tr>\n",
       "      <th>1995</th>\n",
       "      <td>9.980</td>\n",
       "      <td>0.596822</td>\n",
       "    </tr>\n",
       "    <tr>\n",
       "      <th>1996</th>\n",
       "      <td>9.985</td>\n",
       "      <td>0.596550</td>\n",
       "    </tr>\n",
       "    <tr>\n",
       "      <th>1997</th>\n",
       "      <td>9.990</td>\n",
       "      <td>0.596279</td>\n",
       "    </tr>\n",
       "    <tr>\n",
       "      <th>1998</th>\n",
       "      <td>9.995</td>\n",
       "      <td>0.596008</td>\n",
       "    </tr>\n",
       "    <tr>\n",
       "      <th>1999</th>\n",
       "      <td>10.000</td>\n",
       "      <td>0.595737</td>\n",
       "    </tr>\n",
       "  </tbody>\n",
       "</table>\n",
       "<p>2000 rows × 2 columns</p>\n",
       "</div>"
      ],
      "text/plain": [
       "      Biomass ratio (Strain2/Strain1)  \\\n",
       "0                               0.005   \n",
       "1                               0.010   \n",
       "2                               0.015   \n",
       "3                               0.020   \n",
       "4                               0.025   \n",
       "...                               ...   \n",
       "1995                            9.980   \n",
       "1996                            9.985   \n",
       "1997                            9.990   \n",
       "1998                            9.995   \n",
       "1999                           10.000   \n",
       "\n",
       "      Benzyl acetate production flux [mmol/gDCW/h]  \n",
       "0                                         0.088084  \n",
       "1                                         0.175296  \n",
       "2                                         0.261649  \n",
       "3                                         0.347155  \n",
       "4                                         0.431827  \n",
       "...                                            ...  \n",
       "1995                                      0.596822  \n",
       "1996                                      0.596550  \n",
       "1997                                      0.596279  \n",
       "1998                                      0.596008  \n",
       "1999                                      0.595737  \n",
       "\n",
       "[2000 rows x 2 columns]"
      ]
     },
     "metadata": {},
     "output_type": "display_data"
    }
   ],
   "source": [
    "df = pd.DataFrame([ns, f_aggs_bz_dp]).T\n",
    "df.columns = ['Biomass ratio (Strain2/Strain1)', 'Benzyl acetate production flux [mmol/gDCW/h]']\n",
    "df.to_csv(txt_dir, sep='\\t')\n",
    "display(df)"
   ]
  },
  {
   "cell_type": "code",
   "execution_count": 10,
   "id": "259a31c1-eaad-46b3-a759-aa480144a3cd",
   "metadata": {},
   "outputs": [
    {
     "name": "stdout",
     "output_type": "stream",
     "text": [
      "Maximum flux at the biomass ratio of 0.37:  4.7816 mmol/gDCW/h\n"
     ]
    }
   ],
   "source": [
    "max_idx = f_aggs_bz_dp.argmax()\n",
    "ratio_max = ns[max_idx]\n",
    "flux_max = f_aggs_bz_dp[max_idx]\n",
    "print(f'Maximum flux at the biomass ratio of {ratio_max}: {flux_max: 0.4f} mmol/gDCW/h')"
   ]
  },
  {
   "cell_type": "code",
   "execution_count": null,
   "id": "1635ee7e-26df-45c0-85bf-ee484b44c357",
   "metadata": {},
   "outputs": [],
   "source": []
  },
  {
   "cell_type": "markdown",
   "id": "dad22717-b8d1-47df-8af7-65e2fb1dacda",
   "metadata": {},
   "source": [
    "### Co-culture (benzoic acid independent pathway)"
   ]
  },
  {
   "cell_type": "code",
   "execution_count": 12,
   "id": "c05d4bdd-e1ff-4fcd-bbd5-d8cd88a737ed",
   "metadata": {},
   "outputs": [],
   "source": [
    "fig_dir = f'{output_dir}/bz_idp_combined.svg'\n",
    "txt_dir = f'{output_dir}/bz_idp_combined.txt'\n",
    "\n",
    "model_dir_1 = './model_files/iML1515_bz_idp_co_1.xml'\n",
    "model_dir_2 = './model_files/iML1515_bz_idp_co_2.xml'\n",
    "\n",
    "rxn_inter = 'EX_bzalc_e'\n",
    "rxn_prod = 'EX_bzac_e'"
   ]
  },
  {
   "cell_type": "code",
   "execution_count": 13,
   "id": "239c5cd2-cc8a-4a65-a262-e17dd4b22e7b",
   "metadata": {},
   "outputs": [],
   "source": [
    "model_1 = read_sbml_model(model_dir_1)\n",
    "model_2 = read_sbml_model(model_dir_2)\n",
    "model_bz_idp = combine_models(model_1, model_2)"
   ]
  },
  {
   "cell_type": "code",
   "execution_count": 14,
   "id": "73779da2-ffa2-4035-b6d7-424774bfcb48",
   "metadata": {},
   "outputs": [],
   "source": [
    "ns, f_aggs_bz_idp = calculate_agg_flux(model_bz_idp, rxn_inter, rxn_prod)"
   ]
  },
  {
   "cell_type": "code",
   "execution_count": 15,
   "id": "73f82632-f76b-4812-a9ec-5045f8599dd1",
   "metadata": {},
   "outputs": [
    {
     "data": {
      "text/html": [
       "<div>\n",
       "<style scoped>\n",
       "    .dataframe tbody tr th:only-of-type {\n",
       "        vertical-align: middle;\n",
       "    }\n",
       "\n",
       "    .dataframe tbody tr th {\n",
       "        vertical-align: top;\n",
       "    }\n",
       "\n",
       "    .dataframe thead th {\n",
       "        text-align: right;\n",
       "    }\n",
       "</style>\n",
       "<table border=\"1\" class=\"dataframe\">\n",
       "  <thead>\n",
       "    <tr style=\"text-align: right;\">\n",
       "      <th></th>\n",
       "      <th>Biomass ratio (Strain2/Strain1)</th>\n",
       "      <th>Benzyl acetate production flux [mmol/gDCW/h]</th>\n",
       "    </tr>\n",
       "  </thead>\n",
       "  <tbody>\n",
       "    <tr>\n",
       "      <th>0</th>\n",
       "      <td>0.005</td>\n",
       "      <td>0.135138</td>\n",
       "    </tr>\n",
       "    <tr>\n",
       "      <th>1</th>\n",
       "      <td>0.010</td>\n",
       "      <td>0.268939</td>\n",
       "    </tr>\n",
       "    <tr>\n",
       "      <th>2</th>\n",
       "      <td>0.015</td>\n",
       "      <td>0.401421</td>\n",
       "    </tr>\n",
       "    <tr>\n",
       "      <th>3</th>\n",
       "      <td>0.020</td>\n",
       "      <td>0.532604</td>\n",
       "    </tr>\n",
       "    <tr>\n",
       "      <th>4</th>\n",
       "      <td>0.025</td>\n",
       "      <td>0.662507</td>\n",
       "    </tr>\n",
       "    <tr>\n",
       "      <th>...</th>\n",
       "      <td>...</td>\n",
       "      <td>...</td>\n",
       "    </tr>\n",
       "    <tr>\n",
       "      <th>1995</th>\n",
       "      <td>9.980</td>\n",
       "      <td>0.461054</td>\n",
       "    </tr>\n",
       "    <tr>\n",
       "      <th>1996</th>\n",
       "      <td>9.985</td>\n",
       "      <td>0.460844</td>\n",
       "    </tr>\n",
       "    <tr>\n",
       "      <th>1997</th>\n",
       "      <td>9.990</td>\n",
       "      <td>0.460634</td>\n",
       "    </tr>\n",
       "    <tr>\n",
       "      <th>1998</th>\n",
       "      <td>9.995</td>\n",
       "      <td>0.460425</td>\n",
       "    </tr>\n",
       "    <tr>\n",
       "      <th>1999</th>\n",
       "      <td>10.000</td>\n",
       "      <td>0.460215</td>\n",
       "    </tr>\n",
       "  </tbody>\n",
       "</table>\n",
       "<p>2000 rows × 2 columns</p>\n",
       "</div>"
      ],
      "text/plain": [
       "      Biomass ratio (Strain2/Strain1)  \\\n",
       "0                               0.005   \n",
       "1                               0.010   \n",
       "2                               0.015   \n",
       "3                               0.020   \n",
       "4                               0.025   \n",
       "...                               ...   \n",
       "1995                            9.980   \n",
       "1996                            9.985   \n",
       "1997                            9.990   \n",
       "1998                            9.995   \n",
       "1999                           10.000   \n",
       "\n",
       "      Benzyl acetate production flux [mmol/gDCW/h]  \n",
       "0                                         0.135138  \n",
       "1                                         0.268939  \n",
       "2                                         0.401421  \n",
       "3                                         0.532604  \n",
       "4                                         0.662507  \n",
       "...                                            ...  \n",
       "1995                                      0.461054  \n",
       "1996                                      0.460844  \n",
       "1997                                      0.460634  \n",
       "1998                                      0.460425  \n",
       "1999                                      0.460215  \n",
       "\n",
       "[2000 rows x 2 columns]"
      ]
     },
     "metadata": {},
     "output_type": "display_data"
    }
   ],
   "source": [
    "df = pd.DataFrame([ns, f_aggs_bz_idp]).T\n",
    "df.columns = ['Biomass ratio (Strain2/Strain1)', 'Benzyl acetate production flux [mmol/gDCW/h]']\n",
    "df.to_csv(txt_dir, sep='\\t')\n",
    "display(df)"
   ]
  },
  {
   "cell_type": "code",
   "execution_count": 16,
   "id": "67286212-e086-4d6b-b1c6-86c4a780aff6",
   "metadata": {},
   "outputs": [
    {
     "name": "stdout",
     "output_type": "stream",
     "text": [
      "Maximum flux at the biomass ratio of 0.19:  4.2541 mmol/gDCW/h\n"
     ]
    }
   ],
   "source": [
    "max_idx = f_aggs_bz_idp.argmax()\n",
    "ratio_max = ns[max_idx]\n",
    "flux_max = f_aggs_bz_idp[max_idx]\n",
    "print(f'Maximum flux at the biomass ratio of {ratio_max}: {flux_max: 0.4f} mmol/gDCW/h')"
   ]
  },
  {
   "cell_type": "code",
   "execution_count": null,
   "id": "f0ef8a3d-eb5c-4496-9b84-c66754464967",
   "metadata": {},
   "outputs": [],
   "source": []
  }
 ],
 "metadata": {
  "kernelspec": {
   "display_name": "regem_graph",
   "language": "python",
   "name": "regem_graph"
  },
  "language_info": {
   "codemirror_mode": {
    "name": "ipython",
    "version": 3
   },
   "file_extension": ".py",
   "mimetype": "text/x-python",
   "name": "python",
   "nbconvert_exporter": "python",
   "pygments_lexer": "ipython3",
   "version": "3.8.11"
  }
 },
 "nbformat": 4,
 "nbformat_minor": 5
}
