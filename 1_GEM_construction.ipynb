{
 "cells": [
  {
   "cell_type": "code",
   "execution_count": 1,
   "metadata": {},
   "outputs": [],
   "source": [
    "import os\n",
    "\n",
    "import numpy as np\n",
    "import pandas as pd\n",
    "import matplotlib.pyplot as plt\n",
    "import cobra\n",
    "from cobra.io import read_sbml_model, write_sbml_model\n",
    "from cobra import Reaction, Metabolite\n",
    "from cobra.flux_analysis import pfba\n",
    "from tqdm.auto import tqdm"
   ]
  },
  {
   "cell_type": "code",
   "execution_count": 2,
   "metadata": {},
   "outputs": [],
   "source": [
    "model_dir = './iML1515.xml'\n",
    "output_dir = './model_information'\n",
    "model_output_dir = './model_files'\n",
    "\n",
    "if output_dir[-1] == '/':\n",
    "    output_dir = output_dir[:-1]\n",
    "if model_output_dir[-1] == '/':\n",
    "    model_output_dir = model_output_dir[:-1]\n",
    "\n",
    "if not os.path.exists(output_dir):\n",
    "    os.makedirs(output_dir)\n",
    "if not os.path.exists(model_output_dir):\n",
    "    os.makedirs(model_output_dir)"
   ]
  },
  {
   "cell_type": "code",
   "execution_count": 3,
   "metadata": {},
   "outputs": [
    {
     "name": "stdout",
     "output_type": "stream",
     "text": [
      "Academic license - for non-commercial use only - expires 2024-06-11\n",
      "Using license file /data/user_home/gbkim/gurobi.lic\n"
     ]
    },
    {
     "data": {
      "text/html": [
       "\n",
       "        <table>\n",
       "            <tr>\n",
       "                <td><strong>Name</strong></td>\n",
       "                <td>iML1515</td>\n",
       "            </tr><tr>\n",
       "                <td><strong>Memory address</strong></td>\n",
       "                <td>0x07fb4bd448130</td>\n",
       "            </tr><tr>\n",
       "                <td><strong>Number of metabolites</strong></td>\n",
       "                <td>1877</td>\n",
       "            </tr><tr>\n",
       "                <td><strong>Number of reactions</strong></td>\n",
       "                <td>2712</td>\n",
       "            </tr><tr>\n",
       "                <td><strong>Number of groups</strong></td>\n",
       "                <td>38</td>\n",
       "            </tr><tr>\n",
       "                <td><strong>Objective expression</strong></td>\n",
       "                <td>1.0*BIOMASS_Ec_iML1515_core_75p37M - 1.0*BIOMASS_Ec_iML1515_core_75p37M_reverse_35685</td>\n",
       "            </tr><tr>\n",
       "                <td><strong>Compartments</strong></td>\n",
       "                <td>cytosol, extracellular space, periplasm</td>\n",
       "            </tr>\n",
       "          </table>"
      ],
      "text/plain": [
       "<Model iML1515 at 0x7fb4bd448130>"
      ]
     },
     "execution_count": 3,
     "metadata": {},
     "output_type": "execute_result"
    }
   ],
   "source": [
    "base = read_sbml_model(model_dir)\n",
    "base"
   ]
  },
  {
   "cell_type": "code",
   "execution_count": 4,
   "metadata": {},
   "outputs": [],
   "source": [
    "cinmcoa_c = Metabolite('cinmcoa_c', name='Cinnamoyl-CoA', formula='C30H38N7O17P3S', charge=-4, compartment='c')\n",
    "hppncoa_c = Metabolite('3hppncoa_c', name='3-Hydroxy-3-phenylpropanoyl-CoA', formula='C30H40N7O18P3S', charge=-4, compartment='c')\n",
    "kppcoa_c = Metabolite('kppcoa_c', name='3-Oxo-3-phenylpropanoyl-CoA', formula='C30H38N7O18P3S', charge=-4, compartment='c')\n",
    "bzal_c = Metabolite('bzal_c', name='Benzaldehyde', formula='C7H6O', charge=0, compartment='c')\n",
    "bz_c = Metabolite('bz_c', name='Benzoate', formula='C7H5O2', charge=-1, compartment='c')\n",
    "mndlt__S_c = Metabolite('mndlt__S_c', name='(S)-Mandelate', formula='C8H7O3', charge=-1, compartment='c')\n",
    "phglx_c = Metabolite('phglx_c', name='Phenylglyoxylate', formula='C8H5O3', charge=-1, compartment='c')\n",
    "bzalc_c = Metabolite('bzalc_c', name='Benzyl alcohol', formula='C7H8O', charge=0, compartment='c')\n",
    "bzac_c = Metabolite('bzac_c', name='Benzyl acetate', formula='C9H10O2', charge=0, compartment='c')\n",
    "\n",
    "\n",
    "bz_e = Metabolite('bz_e', name='Benzoate', formula='C7H5O2', charge=-1, compartment='e')\n",
    "bzalc_e = Metabolite('bzalc_e', name='Benzyl alcohol', formula='C7H8O', charge=0, compartment='e')\n",
    "bzac_e = Metabolite('bzac_e', name='Benzyl acetate', formula='C9H10O2', charge=0, compartment='e')"
   ]
  },
  {
   "cell_type": "code",
   "execution_count": 5,
   "metadata": {},
   "outputs": [],
   "source": [
    "PAL = Reaction('PAL', name='phenylalanine lyase', lower_bound=0, upper_bound=1000)\n",
    "PAL.add_metabolites({\n",
    "    base.metabolites.phe__L_c: -1, base.metabolites.cinnm_c: 1, base.metabolites.nh4_c: 1,\n",
    "})\n",
    "\n",
    "CNL = Reaction('CNL', name='cinnamate:CoA ligase', lower_bound=0, upper_bound=1000)\n",
    "CNL.add_metabolites({\n",
    "    base.metabolites.cinnm_c: -1, base.metabolites.atp_c: -1, base.metabolites.coa_c: -1,\n",
    "    cinmcoa_c: 1, base.metabolites.amp_c: 1, base.metabolites.ppi_c: 1,\n",
    "})\n",
    "\n",
    "ENCL = Reaction('ENCL', name='cinnamoyl-CoA hydratase', lower_bound=-1000, upper_bound=1000)\n",
    "ENCL.add_metabolites({\n",
    "    cinmcoa_c: -1, base.metabolites.h2o_c: -1, hppncoa_c: 1\n",
    "})\n",
    "\n",
    "AIM1 = Reaction('AIM1', name='3-hydroxyacyl-CoA dehydrogenase', lower_bound=0, upper_bound=1000)\n",
    "AIM1.add_metabolites({\n",
    "    hppncoa_c: -1, base.metabolites.nad_c: -1,\n",
    "    kppcoa_c: 1, base.metabolites.nadh_c: 1, base.metabolites.h_c: 1\n",
    "})\n",
    "\n",
    "PHDC = Reaction('PHDC', name='3-oxoacyl-CoA ketohydrolase', lower_bound=0, upper_bound=1000)\n",
    "PHDC.add_metabolites({\n",
    "    kppcoa_c: -1, base.metabolites.h2o_c: -1, \n",
    "    bz_c: 1, base.metabolites.accoa_c: 1, base.metabolites.h_c: 1\n",
    "})\n",
    "\n",
    "CAR1 = Reaction('CAR1', name='carboxylic acid reductase', lower_bound=0, upper_bound=1000)\n",
    "CAR1.add_metabolites({\n",
    "    bz_c: -1, base.metabolites.atp_c: -1, base.metabolites.h_c: -1, base.metabolites.nadph_c: -1,\n",
    "    bzal_c: 1, base.metabolites.amp_c: 1, base.metabolites.ppi_c: 1, base.metabolites.nadp_c: 1,\n",
    "})\n",
    "\n",
    "\n",
    "BZALDH2 = Reaction('BZALDH2', name='benzyl alcohol dehydrogenase (NADPH)', lower_bound=-1000, upper_bound=1000)\n",
    "BZALDH2.add_metabolites({\n",
    "    bzal_c: -1, base.metabolites.nadph_c: -1, base.metabolites.h_c: -1,\n",
    "    bzalc_c: 1, base.metabolites.nadp_c: 1\n",
    "})\n",
    "\n",
    "ATF1 = Reaction('ATF1', name='alcohol acetyltransferase', lower_bound=0, upper_bound=1000)\n",
    "ATF1.add_metabolites({\n",
    "    bzalc_c: -1, base.metabolites.accoa_c: -1,\n",
    "    bzac_c: 1, base.metabolites.coa_c: 1\n",
    "})\n",
    "\n",
    "\n",
    "\n",
    "HMAS = Reaction('HMAS', name='hydroxymandelate synthase', lower_bound=0, upper_bound=1000)\n",
    "HMAS.add_metabolites({\n",
    "    base.metabolites.phpyr_c: -1, base.metabolites.o2_c: -1,\n",
    "    mndlt__S_c: 1, base.metabolites.co2_c: 1\n",
    "})\n",
    "\n",
    "\n",
    "MDLB3 = Reaction('MDLB3', name='(S)-mandelate dehydrogenase (FMN)', lower_bound=0, upper_bound=1000)\n",
    "MDLB3.add_metabolites({\n",
    "    mndlt__S_c: -1, base.metabolites.fmn_c: -1,\n",
    "    phglx_c: 1, base.metabolites.fmnh2_c: 1, \n",
    "})\n",
    "\n",
    "\n",
    "MDLC = Reaction('MDLC', name='benzolformate decarboxylase', lower_bound=0, upper_bound=1000)\n",
    "MDLC.add_metabolites({\n",
    "    phglx_c: -1, base.metabolites.h_c: -1,\n",
    "    bzal_c: 1, base.metabolites.co2_c: 1\n",
    "})\n",
    "\n",
    "\n",
    "BZtex = Reaction('BZtex', name='benzoate to extracellular space', lower_bound=0, upper_bound=1000)\n",
    "BZtex.add_metabolites({\n",
    "    bz_c: -1, bz_e: 1\n",
    "})\n",
    "\n",
    "\n",
    "BZALCtex = Reaction('BZALCtex', name='benzyl alcohol to extracellular space', lower_bound=0, upper_bound=1000)\n",
    "BZALCtex.add_metabolites({\n",
    "    bzalc_c: -1, bzalc_e: 1\n",
    "})\n",
    "\n",
    "\n",
    "BZAZtex = Reaction('BZAZtex', name='benzyl acetate to extracellular space', lower_bound=0, upper_bound=1000)\n",
    "BZAZtex.add_metabolites({\n",
    "    bzac_c: -1, bzac_e: 1\n",
    "})\n",
    "\n",
    "\n",
    "EX_bz_e = Reaction('EX_bz_e', name='benzoate exchange reaction', lower_bound=0, upper_bound=1000)\n",
    "EX_bz_e.add_metabolites({\n",
    "    bz_e: -1\n",
    "})\n",
    "\n",
    "EX_bzalc_e = Reaction('EX_bzalc_e', name='benzyl alcohol exchange reaction', lower_bound=0, upper_bound=1000)\n",
    "EX_bzalc_e.add_metabolites({\n",
    "    bzalc_e: -1\n",
    "})\n",
    "\n",
    "EX_bzac_e = Reaction('EX_bzac_e', name='benzyl acetate exchange reaction', lower_bound=0, upper_bound=1000)\n",
    "EX_bzac_e.add_metabolites({\n",
    "    bzac_e: -1\n",
    "})"
   ]
  },
  {
   "cell_type": "code",
   "execution_count": 6,
   "metadata": {},
   "outputs": [],
   "source": [
    "new_metabolites = [\n",
    "    cinmcoa_c, hppncoa_c, kppcoa_c,  \n",
    "    bzal_c, bz_c, mndlt__S_c, phglx_c, \n",
    "    bzalc_c, bzac_c,\n",
    "    bz_e, bzalc_e, bzac_e,\n",
    "]"
   ]
  },
  {
   "cell_type": "code",
   "execution_count": 7,
   "metadata": {},
   "outputs": [],
   "source": [
    "new_reactions = [\n",
    "    PAL, CNL, ENCL, AIM1, PHDC,\n",
    "    CAR1, BZALDH2, ATF1,\n",
    "    HMAS, MDLB3, MDLC,\n",
    "    BZtex, EX_bz_e, BZALCtex, \n",
    "    EX_bzalc_e, BZAZtex, EX_bzac_e,\n",
    "]"
   ]
  },
  {
   "cell_type": "code",
   "execution_count": 8,
   "metadata": {},
   "outputs": [],
   "source": [
    "met_info = []\n",
    "for met in new_metabolites:\n",
    "    met_id = met.id\n",
    "    met_name = met.name\n",
    "    formula = met.formula\n",
    "    charge = met.charge\n",
    "    comp = met.compartment\n",
    "    met_info.append([met_id, met_name, formula, charge, comp])\n",
    "df_met = pd.DataFrame(met_info)\n",
    "df_met.columns = ['ID', 'Name', 'Formula', 'Charge', 'Compartment']\n",
    "df_met.to_csv(f'{output_dir}/Added_metabolites.txt', sep='\\t')"
   ]
  },
  {
   "cell_type": "code",
   "execution_count": 9,
   "metadata": {},
   "outputs": [],
   "source": [
    "rxn_info = []\n",
    "for rxn in new_reactions:\n",
    "    rxn_id = rxn.id\n",
    "    rxn_name = rxn.name\n",
    "    lb, ub = rxn.bounds\n",
    "    reaction = rxn.reaction\n",
    "    rxn_info.append([rxn_id, rxn_name, reaction, lb, ub])\n",
    "df_rxn = pd.DataFrame(rxn_info)\n",
    "df_rxn.columns = ['ID', 'Name', 'Reaction', 'Lower bound', 'Upper_bound']\n",
    "df_rxn.to_csv(f'{output_dir}/Added_reactions.txt', sep='\\t')"
   ]
  },
  {
   "cell_type": "markdown",
   "metadata": {},
   "source": [
    "### Construct GEMs"
   ]
  },
  {
   "cell_type": "markdown",
   "metadata": {},
   "source": [
    "#### all pathways in integrated strains"
   ]
  },
  {
   "cell_type": "code",
   "execution_count": 10,
   "metadata": {},
   "outputs": [],
   "source": [
    "# Benzoic acid dependent pathway\n",
    "bz_dp = [\n",
    "    PAL, CNL, ENCL, AIM1, \n",
    "    PHDC, CAR1, BZALDH2, ATF1,\n",
    "    BZAZtex, EX_bzac_e\n",
    "]\n",
    "\n",
    "\n",
    "# Benzoic acid independent pathway\n",
    "bz_idp = [\n",
    "    HMAS, MDLB3, MDLC, BZALDH2, ATF1,\n",
    "    BZAZtex, EX_bzac_e\n",
    "]"
   ]
  },
  {
   "cell_type": "code",
   "execution_count": 11,
   "metadata": {},
   "outputs": [],
   "source": [
    "with base as m:\n",
    "    m.add_reactions(bz_dp)\n",
    "    write_sbml_model(m, f'{model_output_dir}/iML1515_bz_dp.xml')\n",
    "\n",
    "with base as m:\n",
    "    m.add_reactions(bz_idp)\n",
    "    write_sbml_model(m, f'{model_output_dir}/iML1515_bz_idp.xml')"
   ]
  },
  {
   "cell_type": "markdown",
   "metadata": {},
   "source": [
    "#### Using co-culture"
   ]
  },
  {
   "cell_type": "code",
   "execution_count": 12,
   "metadata": {},
   "outputs": [],
   "source": [
    "# Benzoic acid dependent pathway Strain 1\n",
    "bz_dp_co_1 = [\n",
    "    PAL, CNL, ENCL, AIM1, PHDC,\n",
    "    BZtex, EX_bz_e,\n",
    "]\n",
    "\n",
    "# Benzoic acid dependent pathway Strain 2\n",
    "bz_dp_co_2 = [\n",
    "    BZtex, EX_bz_e,\n",
    "    CAR1, BZALDH2, ATF1,\n",
    "    BZAZtex, EX_bzac_e\n",
    "]\n",
    "\n",
    "# Benzoic acid independent pathway Strain 1\n",
    "bz_idp_co_1 = [\n",
    "    HMAS, MDLB3, MDLC, BZALDH2, \n",
    "    BZALCtex, EX_bzalc_e,\n",
    "]\n",
    "\n",
    "# Benzoic acid independent pathway Strain 2\n",
    "bz_idp_co_2 = [\n",
    "    BZALCtex, EX_bzalc_e,\n",
    "    ATF1,\n",
    "    BZAZtex, EX_bzac_e\n",
    "]"
   ]
  },
  {
   "cell_type": "code",
   "execution_count": 13,
   "metadata": {},
   "outputs": [],
   "source": [
    "with base as m:\n",
    "    m.add_reactions(bz_dp_co_1)\n",
    "    write_sbml_model(m, f'{model_output_dir}/iML1515_bz_dp_co_1.xml')\n",
    "\n",
    "with base as m:\n",
    "    m.add_reactions(bz_dp_co_2)\n",
    "    m.reactions.BZtex.bounds = (-1000, 1000)\n",
    "    m.reactions.EX_bz_e.bounds = (-1000, 1000)\n",
    "    write_sbml_model(m, f'{model_output_dir}/iML1515_bz_dp_co_2.xml')\n",
    "    \n",
    "    \n",
    "with base as m:\n",
    "    m.add_reactions(bz_idp_co_1)\n",
    "    write_sbml_model(m, f'{model_output_dir}/iML1515_bz_idp_co_1.xml')\n",
    "    \n",
    "with base as m:\n",
    "    m.add_reactions(bz_idp_co_2)\n",
    "    m.reactions.BZALCtex.bounds = (-1000, 1000)\n",
    "    m.reactions.EX_bzalc_e.bounds = (-1000, 1000)\n",
    "    write_sbml_model(m, f'{model_output_dir}/iML1515_bz_idp_co_2.xml')"
   ]
  },
  {
   "cell_type": "code",
   "execution_count": 14,
   "metadata": {},
   "outputs": [],
   "source": [
    "model_desc = [\n",
    "    'Integrated strain-benzoic acid dependent pathway', \n",
    "    'Integrated strain-benzoic acid independent pathway', \n",
    "    'Co-culture strain-benzoic acid dependent pathway Strain 1',\n",
    "    'Co-culture strain-benzoic acid dependent pathway Strain 2',\n",
    "    'Co-culture strain-benzoic acid independent pathway Strain 1',\n",
    "    'Co-culture strain-benzoic acid independent pathway Strain 2'\n",
    "]\n",
    "added_reactions = [\n",
    "    bz_dp,\n",
    "    bz_idp,\n",
    "    bz_dp_co_1,\n",
    "    bz_dp_co_2,\n",
    "    bz_idp_co_1,\n",
    "    bz_idp_co_2\n",
    "]\n",
    "\n",
    "with open(f'{output_dir}/Added_reactions_per_model.txt', 'w') as fp:\n",
    "    fp.write('Description\\tReactionIDs\\n')\n",
    "    for desc, rxns in zip(model_desc, added_reactions):\n",
    "        rxn_ids = '\\t'.join([rxn.id for rxn in rxns])\n",
    "        fp.write(f'{desc}\\t{rxn_ids}\\n')"
   ]
  },
  {
   "cell_type": "code",
   "execution_count": null,
   "metadata": {},
   "outputs": [],
   "source": []
  }
 ],
 "metadata": {
  "kernelspec": {
   "display_name": "regem_graph",
   "language": "python",
   "name": "regem_graph"
  },
  "language_info": {
   "codemirror_mode": {
    "name": "ipython",
    "version": 3
   },
   "file_extension": ".py",
   "mimetype": "text/x-python",
   "name": "python",
   "nbconvert_exporter": "python",
   "pygments_lexer": "ipython3",
   "version": "3.8.11"
  }
 },
 "nbformat": 4,
 "nbformat_minor": 4
}
