{
 "cells": [
  {
   "cell_type": "code",
   "execution_count": 1,
   "metadata": {},
   "outputs": [],
   "source": [
    "import os\n",
    "\n",
    "import pandas as pd\n",
    "\n",
    "from cobra.io import read_sbml_model\n",
    "from cobra.flux_analysis import pfba"
   ]
  },
  {
   "cell_type": "code",
   "execution_count": 2,
   "metadata": {},
   "outputs": [],
   "source": [
    "output_dir = './analysis_output'\n",
    "model_output_dir = './model_files'\n",
    "\n",
    "if output_dir[-1] == '/':\n",
    "    output_dir = output_dir[:-1]\n",
    "\n",
    "if not os.path.exists(output_dir):\n",
    "    os.makedirs(output_dir)"
   ]
  },
  {
   "cell_type": "code",
   "execution_count": 4,
   "metadata": {},
   "outputs": [],
   "source": [
    "def calculate_flux(model, target_chem, c_source='glc__D_e'):\n",
    "    target_chem_name = model.metabolites.get_by_id(target_chem).name\n",
    "    c_source_name = model.metabolites.get_by_id(c_source).name\n",
    "    target_rxn_id = 'EX_' + target_chem\n",
    "    c_source_id = 'EX_' + c_source\n",
    "    with model as m:\n",
    "        m.reactions.ATPM.knock_out()\n",
    "        m.objective = target_rxn_id\n",
    "        sol = pfba(m)\n",
    "    f_target = sol.fluxes[target_rxn_id]\n",
    "    f_c = -sol.fluxes[c_source_id]\n",
    "    yt_mol = f_target/f_c\n",
    "\n",
    "    print(f'{yt_mol: 0.6f} {target_chem_name} mol/ {c_source_name} mol')\n",
    "    return yt_mol, f_target, f_c"
   ]
  },
  {
   "cell_type": "code",
   "execution_count": 5,
   "metadata": {},
   "outputs": [
    {
     "name": "stdout",
     "output_type": "stream",
     "text": [
      "Academic license - for non-commercial use only - expires 2024-06-11\n",
      "Using license file /data/user_home/gbkim/gurobi.lic\n"
     ]
    }
   ],
   "source": [
    "model_bz_dp = read_sbml_model(f'{model_output_dir}/iML1515_bz_dp.xml')\n",
    "model_bz_idp = read_sbml_model(f'{model_output_dir}/iML1515_bz_idp.xml')"
   ]
  },
  {
   "cell_type": "markdown",
   "metadata": {},
   "source": [
    "### Flux calculation using integrated strains"
   ]
  },
  {
   "cell_type": "code",
   "execution_count": 7,
   "metadata": {},
   "outputs": [
    {
     "name": "stdout",
     "output_type": "stream",
     "text": [
      " 0.487487 Benzyl acetate mol/ D-Glucose mol\n",
      " 0.436735 Benzyl acetate mol/ D-Glucose mol\n"
     ]
    },
    {
     "data": {
      "text/html": [
       "<div>\n",
       "<style scoped>\n",
       "    .dataframe tbody tr th:only-of-type {\n",
       "        vertical-align: middle;\n",
       "    }\n",
       "\n",
       "    .dataframe tbody tr th {\n",
       "        vertical-align: top;\n",
       "    }\n",
       "\n",
       "    .dataframe thead th {\n",
       "        text-align: right;\n",
       "    }\n",
       "</style>\n",
       "<table border=\"1\" class=\"dataframe\">\n",
       "  <thead>\n",
       "    <tr style=\"text-align: right;\">\n",
       "      <th></th>\n",
       "      <th>Description</th>\n",
       "      <th>Target chemical</th>\n",
       "      <th>Target chemical production flux (mmol/gDCW/h)</th>\n",
       "      <th>Carbon source uptake flux (mmol/gDCW/h)</th>\n",
       "      <th>molar yield (mol/mol)</th>\n",
       "    </tr>\n",
       "  </thead>\n",
       "  <tbody>\n",
       "    <tr>\n",
       "      <th>0</th>\n",
       "      <td>Integrated strain-benzoic acid dependent pathway</td>\n",
       "      <td>benzyl acetate</td>\n",
       "      <td>4.874875</td>\n",
       "      <td>10.0</td>\n",
       "      <td>0.487487</td>\n",
       "    </tr>\n",
       "    <tr>\n",
       "      <th>1</th>\n",
       "      <td>Integrated strain-benzoic acid independent pat...</td>\n",
       "      <td>benzyl acetate</td>\n",
       "      <td>4.367347</td>\n",
       "      <td>10.0</td>\n",
       "      <td>0.436735</td>\n",
       "    </tr>\n",
       "  </tbody>\n",
       "</table>\n",
       "</div>"
      ],
      "text/plain": [
       "                                         Description Target chemical  \\\n",
       "0   Integrated strain-benzoic acid dependent pathway  benzyl acetate   \n",
       "1  Integrated strain-benzoic acid independent pat...  benzyl acetate   \n",
       "\n",
       "   Target chemical production flux (mmol/gDCW/h)  \\\n",
       "0                                       4.874875   \n",
       "1                                       4.367347   \n",
       "\n",
       "   Carbon source uptake flux (mmol/gDCW/h)  molar yield (mol/mol)  \n",
       "0                                     10.0               0.487487  \n",
       "1                                     10.0               0.436735  "
      ]
     },
     "execution_count": 7,
     "metadata": {},
     "output_type": "execute_result"
    }
   ],
   "source": [
    "flux_data = []\n",
    "\n",
    "target_chem = 'bzac_e'\n",
    "target_chem_name = 'benzyl acetate'\n",
    "\n",
    "anal_desc = [\n",
    "    'Integrated strain-benzoic acid dependent pathway',\n",
    "    'Integrated strain-benzoic acid independent pathway', \n",
    "]\n",
    "\n",
    "anal_models = [model_bz_dp, model_bz_idp]\n",
    "\n",
    "for desc, item in zip(anal_desc, anal_models):\n",
    "    y, f, fc = calculate_flux(item, target_chem, c_source='glc__D_e')\n",
    "    data = [desc, target_chem_name, f, fc, y]\n",
    "    flux_data.append(data)\n",
    "    \n",
    "    \n",
    "df_integrated = pd.DataFrame(flux_data)\n",
    "df_integrated.columns = [\n",
    "    'Description', 'Target chemical', \n",
    "    'Target chemical production flux (mmol/gDCW/h)', 'Carbon source uptake flux (mmol/gDCW/h)',\n",
    "    'molar yield (mol/mol)', \n",
    "]\n",
    "df_integrated.to_csv(f'{output_dir}/integrated_strains_flux.txt', sep='\\t')\n",
    "df_integrated"
   ]
  },
  {
   "cell_type": "code",
   "execution_count": null,
   "metadata": {},
   "outputs": [],
   "source": []
  }
 ],
 "metadata": {
  "kernelspec": {
   "display_name": "regem_graph",
   "language": "python",
   "name": "regem_graph"
  },
  "language_info": {
   "codemirror_mode": {
    "name": "ipython",
    "version": 3
   },
   "file_extension": ".py",
   "mimetype": "text/x-python",
   "name": "python",
   "nbconvert_exporter": "python",
   "pygments_lexer": "ipython3",
   "version": "3.8.11"
  }
 },
 "nbformat": 4,
 "nbformat_minor": 4
}
